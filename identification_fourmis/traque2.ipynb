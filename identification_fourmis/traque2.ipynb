{
 "cells": [
  {
   "cell_type": "code",
   "execution_count": 98,
   "id": "08e678f9",
   "metadata": {},
   "outputs": [
    {
     "ename": "AttributeError",
     "evalue": "module 'cv2' has no attribute 'destroyWindows'",
     "output_type": "error",
     "traceback": [
      "\u001b[1;31m---------------------------------------------------------------------------\u001b[0m",
      "\u001b[1;31mAttributeError\u001b[0m                            Traceback (most recent call last)",
      "\u001b[1;32m<ipython-input-98-a6ed97ef0786>\u001b[0m in \u001b[0;36m<module>\u001b[1;34m\u001b[0m\n\u001b[0;32m     70\u001b[0m         })\n\u001b[0;32m     71\u001b[0m \u001b[0mv\u001b[0m\u001b[1;33m.\u001b[0m\u001b[0mrelease\u001b[0m\u001b[1;33m(\u001b[0m\u001b[1;33m)\u001b[0m\u001b[1;33m\u001b[0m\u001b[1;33m\u001b[0m\u001b[0m\n\u001b[1;32m---> 72\u001b[1;33m \u001b[0mcv2\u001b[0m\u001b[1;33m.\u001b[0m\u001b[0mdestroyWindows\u001b[0m\u001b[1;33m(\u001b[0m\u001b[1;33m)\u001b[0m\u001b[1;33m\u001b[0m\u001b[1;33m\u001b[0m\u001b[0m\n\u001b[0m",
      "\u001b[1;31mAttributeError\u001b[0m: module 'cv2' has no attribute 'destroyWindows'"
     ]
    }
   ],
   "source": [
    "import cv2\n",
    "import numpy as np\n",
    "fourmis = []\n",
    "id_counter = 0\n",
    "velocities = []\n",
    "\n",
    "v = cv2.VideoCapture('video_boite_entiere-test.ts')\n",
    "bg = cv2.imread(\"bg.png\")\n",
    "bg = cv2.cvtColor(bg, cv2.COLOR_BGR2GRAY)\n",
    "bg = cv2.GaussianBlur(bg, (21, 21), 0)\n",
    "\n",
    "fps = v.get(cv2.CAP_PROP_FPS)\n",
    "duration = 10  # durée en secondes\n",
    "frames_to_capture = int(fps * duration)\n",
    "\n",
    "for i in range(frames_to_capture):\n",
    "    \n",
    "    ok, frame = v.read()\n",
    "\n",
    "    if not ok:\n",
    "        break\n",
    "\n",
    "    gray = cv2.cvtColor(frame, cv2.COLOR_BGR2GRAY)\n",
    "    gray = cv2.GaussianBlur(gray, (21, 21), 0)\n",
    "\n",
    "    # Calculer la différence entre le background et la frame actuelle\n",
    "    diff = cv2.absdiff(bg, gray)\n",
    "    thresh = cv2.threshold(diff, 35, 255, cv2.THRESH_BINARY)[1]\n",
    "    thresh = cv2.dilate(thresh, None, iterations=2)\n",
    "\n",
    "    # Trouver les contours et les boîtes englobantes\n",
    "    cnts, _ = cv2.findContours(thresh.copy(), cv2.RETR_LIST, cv2.CHAIN_APPROX_SIMPLE)\n",
    "    nb= 0\n",
    "    for c in cnts:\n",
    "        # Calculer la boîte englobante\n",
    "        (x, y, w, h) = cv2.boundingRect(c)\n",
    "        center = (int(x + w/2), int(y + h/2))\n",
    "        #(x,y,w,h) = cv.boundingRect(c) # coord\n",
    "        cv2.putText(frame,\"fourmis\",(x,y),cv.FONT_HERSHEY_SIMPLEX,1,(255,0,0))\n",
    "        cv2.rectangle(frame,(x,y),(x+w,y+h),(0,255,0),3)\n",
    "\n",
    "        # Calculer la vitesse\n",
    "        if len(fourmis) >= 2:\n",
    "            (x2, y2, w2, h2) = fourmis[-2]['rect']\n",
    "            center2 = (int(x2 + w2/2), int(y2 + h2/2))\n",
    "            dx, dy = np.subtract(center, center2)\n",
    "            dt = 1/v.get(cv2.CAP_PROP_FPS)\n",
    "            velocities.append((dx/dt, dy/dt))\n",
    "\n",
    "        # Identifier la fourmi\n",
    "        id = None\n",
    "        if len(fourmis) == 0:\n",
    "            id = id_counter\n",
    "            id_counter += 1\n",
    "        else:\n",
    "            distances = [np.linalg.norm(np.array(center) - f['center']) for f in fourmis]\n",
    "            if min(distances) < 50 :\n",
    "                nb+=1\n",
    "                id = distances.index(min(distances))\n",
    "            else:\n",
    "                id = id_counter\n",
    "                id_counter += 1\n",
    "\n",
    "        # Ajouter la fourmi à la liste\n",
    "        fourmis.append({\n",
    "            'id': id,\n",
    "            'rect': (x, y, w, h),\n",
    "            'center': center,\n",
    "            'velocity': velocities[-1] if len(velocities) > 0 else (0, 0)\n",
    "        })\n",
    "v.release()\n",
    "cv2.destroyWindows()"
   ]
  },
  {
   "cell_type": "code",
   "execution_count": 99,
   "id": "da29edfb",
   "metadata": {},
   "outputs": [
    {
     "name": "stdout",
     "output_type": "stream",
     "text": [
      "25.0\n"
     ]
    }
   ],
   "source": [
    "print(fps)"
   ]
  },
  {
   "cell_type": "code",
   "execution_count": 90,
   "id": "52dd9e60",
   "metadata": {},
   "outputs": [],
   "source": [
    "res = []\n",
    "for f in fourmis : \n",
    "    res.append(f['id'])\n",
    "id_fourmis,count = np.unique(res,return_counts=True)"
   ]
  },
  {
   "cell_type": "code",
   "execution_count": 93,
   "id": "5392057d",
   "metadata": {},
   "outputs": [
    {
     "name": "stdout",
     "output_type": "stream",
     "text": [
      "10\n"
     ]
    }
   ],
   "source": [
    "print(nb)"
   ]
  },
  {
   "cell_type": "code",
   "execution_count": 92,
   "id": "1c3d46f8",
   "metadata": {},
   "outputs": [
    {
     "name": "stdout",
     "output_type": "stream",
     "text": [
      "1352\n"
     ]
    }
   ],
   "source": [
    "print(len(id_fourmis))"
   ]
  },
  {
   "cell_type": "code",
   "execution_count": 82,
   "id": "9d82ef06",
   "metadata": {},
   "outputs": [
    {
     "name": "stdout",
     "output_type": "stream",
     "text": [
      "        id                 rect       center             velocity\n",
      "0        0    (1002, 232, 5, 5)  (1004, 234)               (0, 0)\n",
      "1        0    (1002, 232, 6, 7)  (1005, 235)               (0, 0)\n",
      "2        1    (491, 1040, 7, 6)  (494, 1043)  (-12750.0, 20225.0)\n",
      "3        1    (1002, 231, 8, 8)  (1006, 235)          (25.0, 0.0)\n",
      "4        2    (490, 1039, 7, 7)  (493, 1042)       (-25.0, -25.0)\n",
      "...    ...                  ...          ...                  ...\n",
      "3788  3778   (543, 753, 15, 11)   (550, 758)   (-6000.0, -2825.0)\n",
      "3789  1007   (526, 628, 10, 13)   (531, 634)   (-7650.0, -4325.0)\n",
      "3790  3602   (490, 335, 17, 19)   (498, 344)  (-1300.0, -10350.0)\n",
      "3791  3781  (1030, 310, 17, 17)  (1038, 318)   (12675.0, -7900.0)\n",
      "3792  3772  (1016, 155, 13, 15)  (1022, 162)   (13100.0, -4550.0)\n",
      "\n",
      "[3793 rows x 4 columns]\n"
     ]
    }
   ],
   "source": [
    "import pandas as pd\n",
    "DataFrame = pd.DataFrame(fourmis)\n",
    "print(DataFrame)"
   ]
  },
  {
   "cell_type": "code",
   "execution_count": null,
   "id": "6fdfbf10",
   "metadata": {},
   "outputs": [],
   "source": []
  }
 ],
 "metadata": {
  "kernelspec": {
   "display_name": "Python 3",
   "language": "python",
   "name": "python3"
  },
  "language_info": {
   "codemirror_mode": {
    "name": "ipython",
    "version": 3
   },
   "file_extension": ".py",
   "mimetype": "text/x-python",
   "name": "python",
   "nbconvert_exporter": "python",
   "pygments_lexer": "ipython3",
   "version": "3.8.10"
  }
 },
 "nbformat": 4,
 "nbformat_minor": 5
}
