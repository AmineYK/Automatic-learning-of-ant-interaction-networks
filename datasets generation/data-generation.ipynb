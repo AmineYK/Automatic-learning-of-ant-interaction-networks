{
 "cells": [
  {
   "cell_type": "code",
   "execution_count": 60,
   "id": "4e80587b",
   "metadata": {},
   "outputs": [],
   "source": [
    "import cv2 as cv\n",
    "import matplotlib.pyplot as plt\n",
    "import datetime\n",
    "import numpy as np\n",
    "from PIL import Image\n",
    "import os"
   ]
  },
  {
   "cell_type": "code",
   "execution_count": 78,
   "id": "c2ef33ab",
   "metadata": {},
   "outputs": [],
   "source": [
    "def get_frames(path,_from,_to,_all=False):\n",
    "    \"\"\"\n",
    "    _from : borne inferieur en secondes\n",
    "    _to : borne superieur en secondes\n",
    "    _all : renvoie toutes les frames de la video\n",
    "    \"\"\"\n",
    "    \n",
    "    frames = []\n",
    "    \n",
    "    # lire la video et recuperer les stats\n",
    "    video = cv.VideoCapture(path)\n",
    "    frames_tot = int(video.get(cv.CAP_PROP_FRAME_COUNT))\n",
    "    fps = video.get(cv.CAP_PROP_FPS)\n",
    "    seconds = round(frames_tot / fps)\n",
    "\n",
    "    # lever une exception si parametres invalides\n",
    "    if _to > seconds:\n",
    "        raise Exception(\"Nombre de seconds invalide\")\n",
    "        \n",
    "    \n",
    "    if _all:\n",
    "        nb_frames = frames_tot\n",
    "    else:\n",
    "        video.set(cv.CAP_PROP_POS_MSEC, _from * 1000)\n",
    "        nb_frames = int((_to - _from) * fps)\n",
    "    \n",
    "    for _ in range(nb_frames):\n",
    "        _,frame = video.read()\n",
    "        frames.append(frame)\n",
    "        \n",
    "    return np.array(frames)\n",
    "\n",
    "def saving(frames,path_direc):\n",
    "    \"\"\"\n",
    "    frames : liste de frames\n",
    "    path_direc : le nom du repertoire \n",
    "    \"\"\"\n",
    "    \n",
    "    if not os.path.exists(path_direc):\n",
    "        os.mkdir(path_direc)\n",
    "    \n",
    "    for i_frame in range(frames.shape[0]):\n",
    "        frame = Image.fromarray(frames[i_frame])\n",
    "        name = \"frame\"+str(i_frame)+\".png\"\n",
    "        image.save(path_direc+\"/\"+name)"
   ]
  },
  {
   "cell_type": "code",
   "execution_count": 82,
   "id": "41d0f92a",
   "metadata": {},
   "outputs": [
    {
     "name": "stdout",
     "output_type": "stream",
     "text": [
      "nombre de frames : 14700\n",
      "durée en seconds : 588\n",
      "temps de la video: 0:09:48\n",
      "\n",
      "nombre de frames recuperées: 250\n"
     ]
    }
   ],
   "source": [
    "path = \"VIDEOS/video_juste_nid-test.mp4\"\n",
    "video = cv.VideoCapture(path)\n",
    "  \n",
    "\n",
    "nb_frames = int(video.get(cv.CAP_PROP_FRAME_COUNT))\n",
    "fps = video.get(cv.CAP_PROP_FPS)\n",
    "  \n",
    "seconds = round(nb_frames / fps)\n",
    "video_time = datetime.timedelta(seconds=seconds)\n",
    "print(f\"nombre de frames : {nb_frames}\")\n",
    "print(f\"durée en seconds : {seconds}\")\n",
    "print(f\"temps de la video: {video_time}\")\n",
    "print()\n",
    "\n",
    "# recuperer les frames entre 0s et 10s\n",
    "frames = get_frames(path,0,10)\n",
    "print(f\"nombre de frames recuperées: {frames.shape[0]}\")"
   ]
  },
  {
   "cell_type": "code",
   "execution_count": 83,
   "id": "502b6aa8",
   "metadata": {},
   "outputs": [],
   "source": [
    "saving(frames,'./saving_frames')"
   ]
  },
  {
   "cell_type": "code",
   "execution_count": 46,
   "id": "b6536a4c",
   "metadata": {},
   "outputs": [],
   "source": []
  },
  {
   "cell_type": "code",
   "execution_count": null,
   "id": "5d91e444",
   "metadata": {},
   "outputs": [],
   "source": []
  }
 ],
 "metadata": {
  "kernelspec": {
   "display_name": "Python 3 (ipykernel)",
   "language": "python",
   "name": "python3"
  },
  "language_info": {
   "codemirror_mode": {
    "name": "ipython",
    "version": 3
   },
   "file_extension": ".py",
   "mimetype": "text/x-python",
   "name": "python",
   "nbconvert_exporter": "python",
   "pygments_lexer": "ipython3",
   "version": "3.9.12"
  }
 },
 "nbformat": 4,
 "nbformat_minor": 5
}
