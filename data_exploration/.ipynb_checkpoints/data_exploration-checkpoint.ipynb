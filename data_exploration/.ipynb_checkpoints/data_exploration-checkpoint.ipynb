{
 "cells": [
  {
   "cell_type": "markdown",
   "id": "a42265a5",
   "metadata": {},
   "source": [
    "\n",
    "    © Copyright (C) 2023\n",
    "    Collaborateurs : Amine YOUCEF KHODJA, Koceila KEMICHE, Hoang Son NGUYEN.*\n"
   ]
  },
  {
   "cell_type": "code",
   "execution_count": null,
   "id": "3620a527",
   "metadata": {},
   "outputs": [],
   "source": [
    "import numpy as np \n",
    "import matplotlib.pyplot as plt\n",
    "from sklearn.naive_bayes import MultinomialNB\n",
    "from sklearn.linear_model import LogisticRegression\n",
    "from sklearn.svm import LinearSVC\n",
    "from sklearn.metrics import accuracy_score"
   ]
  },
  {
   "cell_type": "markdown",
   "id": "9ddb04e1",
   "metadata": {},
   "source": [
    "# Prediction from frequences"
   ]
  },
  {
   "cell_type": "markdown",
   "id": "4dd743a0",
   "metadata": {},
   "source": [
    "- Cette strategie d'exploration se focalise sur l'etude des frequences des deplacements des fourmis sur l'ensemble de la map.\n",
    "- On commence d'abord par discretiser la map (1080,1440) en un ensemble de sous grilles .\n",
    "- Ainsi pour avoir l'ensemble d'appretissage de nos modeles , nous partons de l'ensemble des deplacements de toute les fourmis et nous construisons une matrice sparse de fréquence tel que : \n",
    "|    /   |    SG1   |   SG2    |  SG3     | ... SGN      |\n",
    "|---    |:-:    |:-:    |:-:    |--:    |\n",
    "|    F1   |   0    |   12    |   12    |   16    |\n",
    "|     F2  |    1   |    24   |   10    |   5    |\n",
    "|     F3  |    11   |    19   |   0    |  10     |\n",
    "|     ..  |    ..   |    ..   |   ..   |  ..     |\n",
    "|  FN  |    5   |    25   |   1    |  9     |\n",
    "\n",
    "- Avec  : \n",
    "    - - SGj : Sous grille \"j\" obtenu apres discretisation\n",
    "    - - Fi : Fourmi numero \"i\"\n",
    "\n",
    "\n",
    "- Defaut  : ne prend pas en compte les deplacements deux à deux d'une fourmie  \n",
    "- Solution : autre strategie à explorer en tenant compte de (position_i , position_i+1)"
   ]
  },
  {
   "cell_type": "code",
   "execution_count": 110,
   "id": "1a8d74d1",
   "metadata": {},
   "outputs": [],
   "source": [
    "# discretisation de la grille en intervalles 2D\n",
    "# a partir de la discretisation extraire les coordonnées des espaces sous 4 points\n",
    "# par exemple une grille de (100,500) discretiser en (2,2) on aura : les pas de discretisations respectifs 50 et 250 \n",
    "# --> [0,50,100] et [0,250,500] ainsi on aura 2*2 espaces disjoints \n",
    "def discretisation_uniforme_grille(grid_h,grid_w,bins_h,bins_w):\n",
    "    inter_h = [0]\n",
    "    inter_w = [0]\n",
    "    res = []\n",
    "    pas_h = int(grid_h / bins_h)\n",
    "    pas_w = int(grid_w / bins_w)\n",
    "    \n",
    "    avant = 0\n",
    "    for i in range(bins_h):\n",
    "        inter_h.append(avant + pas_h)\n",
    "        avant = avant + pas_h\n",
    "    \n",
    "    avant = 0\n",
    "    for i in range(bins_w):\n",
    "        inter_w.append(avant + pas_w)\n",
    "        avant = avant + pas_w\n",
    "\n",
    "    for i in range(bins_h):  \n",
    "        for j in range(bins_w):  \n",
    "            res.append((inter_h[i],inter_w[j]))\n",
    "            \n",
    "    formes = []\n",
    "    for couple in res:\n",
    "        x,y = couple\n",
    "        formes.append([(x,y),(x,y+pas_w),(x+pas_h,y),(x+pas_h,y+pas_w)])\n",
    "        \n",
    "    return formes\n",
    "\n",
    "def indi_position_in_forme(formes,position):\n",
    "    x , y = position\n",
    "    for i_forme in range(len(formes)):\n",
    "        NW,SW,NE,SE = formes[i_forme]\n",
    "        if x >= NW[0] and x < NE[0] and x >= SW[0] and x < SE[0] and y >= NW[1] and y < SW[1] and y >= NE[1] and y < SE[1] :\n",
    "            return i_forme\n",
    "    return -1\n",
    "\n",
    "def generate_random_positions(nb_fourmis,nb_positions):\n",
    "    fourmis_positions = []\n",
    "    for i in range(nb_fourmis):\n",
    "        positions = []\n",
    "        for j in range(nb_positions):\n",
    "            pos_x = np.random.randint(0,1080)\n",
    "            pos_y = np.random.randint(0,1440) \n",
    "            positions.append((pos_x,pos_y))\n",
    "        fourmis_positions.append(positions)\n",
    "    return np.array(fourmis_positions)\n",
    "\n",
    "# classe 1 : marche en vertical \n",
    "# classe -1 : marche en horizontal \n",
    "def generate_lineaire_positions(nb_fourmis,nb_positions):\n",
    "    fourmis_positions = []\n",
    "    pas_delacement = 10\n",
    "    for i in range(int(nb_fourmis/2)):\n",
    "        positions = []\n",
    "        # fixer pour cette fourmi la ligne ou elle se deplace\n",
    "        pos_x = np.random.randint(0,1080)\n",
    "        for j in range(nb_positions):\n",
    "            # faire varier sur l'axe Y pour simuler un deplacement sur cet axe\n",
    "            pos_y = j*2 + pas_delacement\n",
    "            positions.append((pos_x,pos_y))\n",
    "        fourmis_positions.append(positions)\n",
    "        \n",
    "    for i in range(int(nb_fourmis/2)):\n",
    "        positions = []\n",
    "        # fixer pour cette fourmi la colonne ou elle se deplace\n",
    "        pos_y = np.random.randint(0,1440)\n",
    "        for j in range(nb_positions):\n",
    "            # faire varier sur l'axe X pour simuler un deplacement sur cet axe\n",
    "            pos_x = j*2 + pas_delacement\n",
    "            positions.append((pos_x,pos_y))\n",
    "        fourmis_positions.append(positions)\n",
    "    return np.array(fourmis_positions)\n",
    "\n",
    "def get_matrice_sparse(fourmis_positions,formes_grille,bins_h,bins_w):\n",
    "    nb_fourmis = fourmis_positions.shape[0]\n",
    "    matr_spr = np.zeros((nb_fourmis,bins_h*bins_w),dtype=int)\n",
    "    for i_fourmis in range(len(fourmis_positions)):\n",
    "        for posi in fourmis_positions[i_fourmis]:\n",
    "            indice = indi_position_in_forme(formes_grille,posi)\n",
    "            if indice != -1:\n",
    "                matr_spr[i_fourmis][indice] += 1\n",
    "    return matr_spr\n",
    "\n",
    "def get_plot_fourmi(fourmi):\n",
    "    X = fourmi[:,0]\n",
    "    Y = fourmi[:,1]\n",
    "    plt.scatter(X,Y)\n",
    "    plt.show()"
   ]
  },
  {
   "cell_type": "markdown",
   "id": "143db3cd",
   "metadata": {},
   "source": [
    "# Generation Random "
   ]
  },
  {
   "cell_type": "code",
   "execution_count": 161,
   "id": "b4ae3933",
   "metadata": {},
   "outputs": [],
   "source": [
    "bins_h,bins_w = (8,8)\n",
    "grid_h,grid_w = (1080,1440)\n",
    "nb_fourmis = 100\n",
    "nb_positions = 40\n",
    "\n",
    "formes_grille = discretisation_uniforme_grille(grid_h,grid_w,bins_h,bins_w)\n",
    "\n",
    "fourmis_positions_train = generate_random_positions(nb_fourmis,nb_positions)\n",
    "matrice_sparse_train = get_matrice_sparse(fourmis_positions_train , formes_grille , bins_h,bins_w)\n",
    "\n",
    "fourmis_positions_test = generate_random_positions(nb_fourmis,nb_positions)\n",
    "matrice_sparse_test = get_matrice_sparse(fourmis_positions_test , formes_grille , bins_h,bins_w)"
   ]
  },
  {
   "cell_type": "code",
   "execution_count": 162,
   "id": "08fc4217",
   "metadata": {},
   "outputs": [
    {
     "data": {
      "image/png": "[encoded data removed]",
      "text/plain": [
       "<Figure size 432x288 with 1 Axes>"
      ]
     },
     "metadata": {
      "needs_background": "light"
     },
     "output_type": "display_data"
    }
   ],
   "source": [
    "get_plot_fourmi(fourmis_positions_test[10])"
   ]
  },
  {
   "cell_type": "code",
   "execution_count": 166,
   "id": "2d929f17",
   "metadata": {},
   "outputs": [
    {
     "name": "stdout",
     "output_type": "stream",
     "text": [
      "(100,)\n",
      "(100, 25)\n",
      "Train accuracy :  0.92\n",
      "Test accuracy :  0.48\n"
     ]
    }
   ],
   "source": [
    "classes = np.array([1 for i in range(int(nb_fourmis / 2))] + [-1 for i in range(int(nb_fourmis / 2))])\n",
    "print(classes.shape)\n",
    "print(matrice_sparse.shape)\n",
    "lr_clf = LogisticRegression(random_state=0, solver='lbfgs',max_iter=100,n_jobs=-1)\n",
    "lr_clf.fit(matrice_sparse_train, classes)\n",
    "pred_lr_train = lr_clf.predict(matrice_sparse_train)\n",
    "pred_lr_test = lr_clf.predict(matrice_sparse_test)\n",
    "print(\"Train accuracy : \",accuracy_score(classes, pred_lr_train))\n",
    "print(\"Test accuracy : \",accuracy_score(classes, pred_lr_test))"
   ]
  },
  {
   "cell_type": "code",
   "execution_count": 167,
   "id": "f3441d52",
   "metadata": {},
   "outputs": [
    {
     "name": "stdout",
     "output_type": "stream",
     "text": [
      "Train accuracy :  0.8\n",
      "Test accuracy :  0.47\n"
     ]
    }
   ],
   "source": [
    "nb_clf = MultinomialNB()\n",
    "nb_clf.fit(matrice_sparse_train, classes)\n",
    "pred_nb = nb_clf.predict(matrice_sparse_train)\n",
    "pred_nb_train = nb_clf.predict(matrice_sparse_train)\n",
    "pred_nb_test = nb_clf.predict(matrice_sparse_test)\n",
    "print(\"Train accuracy : \",accuracy_score(classes, pred_nb_train))\n",
    "print(\"Test accuracy : \",accuracy_score(classes, pred_nb_test))"
   ]
  },
  {
   "cell_type": "code",
   "execution_count": 168,
   "id": "c39862e9",
   "metadata": {},
   "outputs": [
    {
     "name": "stdout",
     "output_type": "stream",
     "text": [
      "Train accuracy :  1.0\n",
      "Test accuracy :  0.48\n"
     ]
    },
    {
     "name": "stderr",
     "output_type": "stream",
     "text": [
      "/home/amine/anaconda3/lib/python3.9/site-packages/sklearn/svm/_base.py:1206: ConvergenceWarning: Liblinear failed to converge, increase the number of iterations.\n",
      "  warnings.warn(\n"
     ]
    }
   ],
   "source": [
    "svm_clf = LinearSVC(random_state=0, tol=1e-5)\n",
    "svm_clf.fit(matrice_sparse_train, classes)\n",
    "pred_svm = svm_clf.predict(matrice_sparse_train)\n",
    "pred_svm_train = svm_clf.predict(matrice_sparse_train)\n",
    "pred_svm_test = svm_clf.predict(matrice_sparse_test)\n",
    "print(\"Train accuracy : \",accuracy_score(classes, pred_svm_train))\n",
    "print(\"Test accuracy : \",accuracy_score(classes, pred_svm_test))"
   ]
  },
  {
   "cell_type": "markdown",
   "id": "fec28f8b",
   "metadata": {},
   "source": [
    "# Generation Lineaire"
   ]
  },
  {
   "cell_type": "markdown",
   "id": "5e74d5b1",
   "metadata": {},
   "source": [
    "- Essayer de simuler deux comportements distincts pour deux classes de fourmis et voir comment les algorithmes se comportent"
   ]
  },
  {
   "cell_type": "code",
   "execution_count": 169,
   "id": "28417805",
   "metadata": {},
   "outputs": [],
   "source": [
    "bins_h,bins_w = (5,5)\n",
    "grid_h,grid_w = (1080,1440)\n",
    "nb_fourmis = 100\n",
    "nb_positions = 40\n",
    "\n",
    "formes_grille = discretisation_uniforme_grille(grid_h,grid_w,bins_h,bins_w)\n",
    "\n",
    "fourmis_positions_train = generate_lineaire_positions(nb_fourmis,nb_positions)\n",
    "matrice_sparse_train = get_matrice_sparse(fourmis_positions_train , formes_grille , bins_h,bins_w)\n",
    "\n",
    "fourmis_positions_test = generate_lineaire_positions(nb_fourmis,nb_positions)\n",
    "matrice_sparse_test = get_matrice_sparse(fourmis_positions_test , formes_grille , bins_h,bins_w)"
   ]
  },
  {
   "cell_type": "code",
   "execution_count": 172,
   "id": "c1debc73",
   "metadata": {},
   "outputs": [
    {
     "data": {
      "image/png": "[encoded data removed]",
      "text/plain": [
       "<Figure size 432x288 with 1 Axes>"
      ]
     },
     "metadata": {
      "needs_background": "light"
     },
     "output_type": "display_data"
    },
    {
     "data": {
      "image/png": "[encoded data removed]",
      "text/plain": [
       "<Figure size 432x288 with 1 Axes>"
      ]
     },
     "metadata": {
      "needs_background": "light"
     },
     "output_type": "display_data"
    }
   ],
   "source": [
    "get_plot_fourmi(fourmis_positions_train[59])\n",
    "get_plot_fourmi(fourmis_positions_test[19])"
   ]
  },
  {
   "cell_type": "code",
   "execution_count": 173,
   "id": "5c22fd9a",
   "metadata": {},
   "outputs": [
    {
     "name": "stdout",
     "output_type": "stream",
     "text": [
      "Train accuracy :  0.91\n",
      "Test accuracy :  0.86\n"
     ]
    }
   ],
   "source": [
    "lr_clf = LogisticRegression(random_state=0, solver='lbfgs',max_iter=100,n_jobs=-1)\n",
    "lr_clf.fit(matrice_sparse_train, classes)\n",
    "pred_lr_train = lr_clf.predict(matrice_sparse_train)\n",
    "pred_lr_test = lr_clf.predict(matrice_sparse_test)\n",
    "print(\"Train accuracy : \",accuracy_score(classes, pred_lr_train))\n",
    "print(\"Test accuracy : \",accuracy_score(classes, pred_lr_test))"
   ]
  },
  {
   "cell_type": "code",
   "execution_count": 174,
   "id": "380bd51c",
   "metadata": {},
   "outputs": [
    {
     "name": "stdout",
     "output_type": "stream",
     "text": [
      "Train accuracy :  0.91\n",
      "Test accuracy :  0.86\n"
     ]
    }
   ],
   "source": [
    "nb_clf = MultinomialNB()\n",
    "nb_clf.fit(matrice_sparse_train, classes)\n",
    "pred_nb = nb_clf.predict(matrice_sparse_train)\n",
    "pred_nb_train = nb_clf.predict(matrice_sparse_train)\n",
    "pred_nb_test = nb_clf.predict(matrice_sparse_test)\n",
    "print(\"Train accuracy : \",accuracy_score(classes, pred_nb_train))\n",
    "print(\"Test accuracy : \",accuracy_score(classes, pred_nb_test))"
   ]
  },
  {
   "cell_type": "code",
   "execution_count": 175,
   "id": "9c6c6a92",
   "metadata": {},
   "outputs": [
    {
     "name": "stdout",
     "output_type": "stream",
     "text": [
      "Train accuracy :  0.89\n",
      "Test accuracy :  0.87\n"
     ]
    },
    {
     "name": "stderr",
     "output_type": "stream",
     "text": [
      "/home/amine/anaconda3/lib/python3.9/site-packages/sklearn/svm/_base.py:1206: ConvergenceWarning: Liblinear failed to converge, increase the number of iterations.\n",
      "  warnings.warn(\n"
     ]
    }
   ],
   "source": [
    "svm_clf = LinearSVC(random_state=0, tol=1e-5)\n",
    "svm_clf.fit(matrice_sparse_train, classes)\n",
    "pred_svm = svm_clf.predict(matrice_sparse_train)\n",
    "pred_svm_train = svm_clf.predict(matrice_sparse_train)\n",
    "pred_svm_test = svm_clf.predict(matrice_sparse_test)\n",
    "print(\"Train accuracy : \",accuracy_score(classes, pred_svm_train))\n",
    "print(\"Test accuracy : \",accuracy_score(classes, pred_svm_test))"
   ]
  },
  {
   "cell_type": "code",
   "execution_count": null,
   "id": "9d0d4807",
   "metadata": {},
   "outputs": [],
   "source": []
  }
 ],
 "metadata": {
  "kernelspec": {
   "display_name": "Python 3 (ipykernel)",
   "language": "python",
   "name": "python3"
  },
  "language_info": {
   "codemirror_mode": {
    "name": "ipython",
    "version": 3
   },
   "file_extension": ".py",
   "mimetype": "text/x-python",
   "name": "python",
   "nbconvert_exporter": "python",
   "pygments_lexer": "ipython3",
   "version": "3.9.12"
  }
 },
 "nbformat": 4,
 "nbformat_minor": 5
}
